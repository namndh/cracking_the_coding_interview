{
 "cells": [
  {
   "cell_type": "markdown",
   "metadata": {},
   "source": [
    "# 1. Linked list\n",
    " - Linked list is a data structure that represents a sequence of nodes. In a singly linked list, each node points to the next node in the linked list.<br />  A doubly linked list gives each node pointers to both the next node and the previous node."
   ]
  },
  {
   "cell_type": "markdown",
   "metadata": {},
   "source": [
    "### 0.0 Utils"
   ]
  },
  {
   "cell_type": "markdown",
   "metadata": {},
   "source": [
    "### 0.0.1 Define a node of linked list"
   ]
  },
  {
   "cell_type": "code",
   "execution_count": 2,
   "metadata": {},
   "outputs": [],
   "source": [
    "from typing import Any\n",
    "\n",
    "class Node:\n",
    "    def __init__(self, value=None):\n",
    "        self.value = value\n",
    "        self.next = None"
   ]
  },
  {
   "cell_type": "markdown",
   "metadata": {},
   "source": [
    "### 0.0.2 Delete a node in linked list "
   ]
  },
  {
   "cell_type": "code",
   "execution_count": 3,
   "metadata": {},
   "outputs": [],
   "source": [
    "def delete_at_node(node: Node):\n",
    "    if node is None:\n",
    "        return\n",
    "    if node.next is None:\n",
    "        return\n",
    "    else:\n",
    "        node.value = node.next.value\n",
    "        node.next = node.next.next"
   ]
  },
  {
   "cell_type": "markdown",
   "metadata": {},
   "source": [
    "### 0.0.3 Delete a node from head with value in case the value is not tail node"
   ]
  },
  {
   "cell_type": "code",
   "execution_count": 4,
   "metadata": {},
   "outputs": [],
   "source": [
    "def delete_from_head(head: None, value: Any) -> Node:\n",
    "    current = head\n",
    "    if current.value == value:\n",
    "        return head.next\n",
    "    while current.next is not None:\n",
    "        if current.next.data == value:\n",
    "            current.next = current.next.next\n",
    "            return head\n",
    "        current = current.next"
   ]
  },
  {
   "cell_type": "markdown",
   "metadata": {},
   "source": [
    "### 0.0.4 Delete tail node"
   ]
  },
  {
   "cell_type": "code",
   "execution_count": 5,
   "metadata": {},
   "outputs": [],
   "source": [
    "def delete_tail(head: Node) -> Node:\n",
    "    if head is None:\n",
    "        return None\n",
    "    if head.next is None:\n",
    "        head = None\n",
    "        return head\n",
    "    current = head\n",
    "    while current.next.next is not None:\n",
    "        current = current.next\n",
    "    current.next = None\n",
    "    return head"
   ]
  },
  {
   "cell_type": "markdown",
   "metadata": {},
   "source": [
    "### 0.0.5 Print a linked list"
   ]
  },
  {
   "cell_type": "code",
   "execution_count": 6,
   "metadata": {},
   "outputs": [],
   "source": [
    "def print_ll(head: Node):\n",
    "    current: Node = head\n",
    "    while current is not None:\n",
    "        print(current.value, end=' ')\n",
    "        current = current.next"
   ]
  },
  {
   "cell_type": "markdown",
   "metadata": {},
   "source": [
    "### 0.0.6 Get length of a linked list"
   ]
  },
  {
   "cell_type": "code",
   "execution_count": 13,
   "metadata": {},
   "outputs": [],
   "source": [
    "def len_ll(head: Node):\n",
    "    counter = 0\n",
    "    current = head\n",
    "    while current is not None:\n",
    "        counter += 1\n",
    "        current = current.next\n",
    "    return counter"
   ]
  },
  {
   "cell_type": "markdown",
   "metadata": {},
   "source": [
    "## Ex1: Remove dups in an unsorted linked list"
   ]
  },
  {
   "cell_type": "markdown",
   "metadata": {},
   "source": [
    "#### To remove dups in a unsorted linked list, we traverse through the linked list, then we can use hash table or dictionary to detect which node is duplicated then delete this node"
   ]
  },
  {
   "cell_type": "code",
   "execution_count": 8,
   "metadata": {},
   "outputs": [],
   "source": [
    "def dedup(head: Node):\n",
    "    lockup_table = dict()\n",
    "    previous = Node()\n",
    "    while head is not None:\n",
    "        if head.value not in lockup_table:\n",
    "            lockup_table[head.value] = 1\n",
    "            previous = head\n",
    "        if head.value in lockup_table:\n",
    "            previous.next = head.next\n",
    "        head = head.next\n",
    "    return head"
   ]
  },
  {
   "cell_type": "markdown",
   "metadata": {},
   "source": [
    "### Testing"
   ]
  },
  {
   "cell_type": "code",
   "execution_count": 20,
   "metadata": {},
   "outputs": [],
   "source": [
    "head = Node(1)\n",
    "n1 = Node(2)\n",
    "n2 = Node(3)\n",
    "n3 = Node(1)\n",
    "n4 = Node(2)\n",
    "head.next = n1\n",
    "n1.next = n2\n",
    "n2.next = n3\n",
    "n3.next = n4"
   ]
  },
  {
   "cell_type": "code",
   "execution_count": 21,
   "metadata": {},
   "outputs": [
    {
     "name": "stdout",
     "output_type": "stream",
     "text": [
      "1 2 3 1 2 "
     ]
    }
   ],
   "source": [
    "print_ll(head)"
   ]
  },
  {
   "cell_type": "code",
   "execution_count": 14,
   "metadata": {},
   "outputs": [
    {
     "name": "stdout",
     "output_type": "stream",
     "text": [
      "5\n"
     ]
    }
   ],
   "source": [
    "print(len_ll(head))"
   ]
  },
  {
   "cell_type": "code",
   "execution_count": 15,
   "metadata": {},
   "outputs": [],
   "source": [
    "dedup(head)"
   ]
  },
  {
   "cell_type": "code",
   "execution_count": 16,
   "metadata": {},
   "outputs": [
    {
     "name": "stdout",
     "output_type": "stream",
     "text": [
      "1 2 3 "
     ]
    }
   ],
   "source": [
    "print_ll(head)"
   ]
  },
  {
   "cell_type": "code",
   "execution_count": 17,
   "metadata": {},
   "outputs": [
    {
     "data": {
      "text/plain": [
       "3"
      ]
     },
     "execution_count": 17,
     "metadata": {},
     "output_type": "execute_result"
    }
   ],
   "source": [
    "len_ll(head)"
   ]
  },
  {
   "cell_type": "markdown",
   "metadata": {},
   "source": [
    "### Ex2: Return K-th node to last\n",
    "\n",
    "Extract k-th node to last node of a linked list"
   ]
  },
  {
   "cell_type": "code",
   "execution_count": 19,
   "metadata": {},
   "outputs": [],
   "source": [
    "def extract(head: Node, k: int) -> Node:\n",
    "    length = len_ll(head)\n",
    "    counter = 0\n",
    "    current = head\n",
    "    while current is not None:\n",
    "        counter += 1\n",
    "        if counter == k:\n",
    "            return current\n",
    "        current = current.next    "
   ]
  },
  {
   "cell_type": "code",
   "execution_count": 22,
   "metadata": {},
   "outputs": [],
   "source": [
    "result = extract(head, 3)"
   ]
  },
  {
   "cell_type": "code",
   "execution_count": 23,
   "metadata": {},
   "outputs": [
    {
     "name": "stdout",
     "output_type": "stream",
     "text": [
      "3 1 2 "
     ]
    }
   ],
   "source": [
    "print_ll(result)"
   ]
  },
  {
   "cell_type": "code",
   "execution_count": null,
   "metadata": {},
   "outputs": [],
   "source": []
  }
 ],
 "metadata": {
  "kernelspec": {
   "display_name": "Python 3",
   "language": "python",
   "name": "python3"
  },
  "language_info": {
   "codemirror_mode": {
    "name": "ipython",
    "version": 3
   },
   "file_extension": ".py",
   "mimetype": "text/x-python",
   "name": "python",
   "nbconvert_exporter": "python",
   "pygments_lexer": "ipython3",
   "version": "3.7.6"
  }
 },
 "nbformat": 4,
 "nbformat_minor": 4
}
